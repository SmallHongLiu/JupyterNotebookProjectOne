{
 "cells": [
  {
   "cell_type": "code",
   "execution_count": 1,
   "metadata": {},
   "outputs": [
    {
     "name": "stdout",
     "output_type": "stream",
     "text": [
      "result:  -1\n",
      "result:  -0.5\n",
      "result:  0\n",
      "result:  0\n",
      "result:  1\n"
     ]
    }
   ],
   "source": [
    "print('result: ', (-1 // 2))\n",
    "print('result: ', (-1 / 2))\n",
    "print('result: ', (1 // 2))\n",
    "print('result: ', (2 // 3))\n",
    "print('result: ', (3 // 2))"
   ]
  },
  {
   "cell_type": "code",
   "execution_count": null,
   "metadata": {},
   "outputs": [],
   "source": [
    "import timeit\n",
    "\n",
    "n = 10000\n",
    "def test_rang(n):\n",
    "    return for i in range(n):\n",
    "        pass\n",
    "    \n",
    "def test_xrange(n):\n",
    "    for i in xrange(n):\n",
    "        pass\n",
    "    \n",
    "print('Python', python_version())\n",
    "print('\\ntiming range()')\n",
    "\n",
    "timing range()\n",
    "1000 loops, best of 3: 520 "
   ]
  },
  {
   "cell_type": "code",
   "execution_count": 2,
   "metadata": {},
   "outputs": [
    {
     "data": {
      "text/plain": [
       "512"
      ]
     },
     "execution_count": 2,
     "metadata": {},
     "output_type": "execute_result"
    }
   ],
   "source": [
    "# 八进制字面量表示\n",
    "# 八进制必须写成0o****, 二进制必须写成0b****\n",
    "0o1000"
   ]
  },
  {
   "cell_type": "code",
   "execution_count": null,
   "metadata": {},
   "outputs": [],
   "source": [
    "# 3.x版本中去掉了<>这种不等运算符\n",
    "# 3.x中去掉了反引号``这种写法，只允许使用repr函数"
   ]
  },
  {
   "cell_type": "code",
   "execution_count": null,
   "metadata": {},
   "outputs": [],
   "source": []
  },
  {
   "cell_type": "code",
   "execution_count": null,
   "metadata": {},
   "outputs": [],
   "source": []
  },
  {
   "cell_type": "code",
   "execution_count": null,
   "metadata": {},
   "outputs": [],
   "source": []
  },
  {
   "cell_type": "code",
   "execution_count": null,
   "metadata": {},
   "outputs": [],
   "source": []
  }
 ],
 "metadata": {
  "kernelspec": {
   "display_name": "Python 3",
   "language": "python",
   "name": "python3"
  },
  "language_info": {
   "codemirror_mode": {
    "name": "ipython",
    "version": 3
   },
   "file_extension": ".py",
   "mimetype": "text/x-python",
   "name": "python",
   "nbconvert_exporter": "python",
   "pygments_lexer": "ipython3",
   "version": "3.6.5"
  }
 },
 "nbformat": 4,
 "nbformat_minor": 2
}
