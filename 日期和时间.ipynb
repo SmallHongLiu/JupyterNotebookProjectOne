{
 "cells": [
  {
   "cell_type": "code",
   "execution_count": 3,
   "metadata": {},
   "outputs": [
    {
     "name": "stdout",
     "output_type": "stream",
     "text": [
      "当前时间戳为:  1539312679.0413\n"
     ]
    }
   ],
   "source": [
    "import time;\n",
    "\n",
    "ticks = time.time()\n",
    "print(\"当前时间戳为: \", ticks)"
   ]
  },
  {
   "cell_type": "code",
   "execution_count": 5,
   "metadata": {},
   "outputs": [
    {
     "name": "stdout",
     "output_type": "stream",
     "text": [
      "本地时间为:  time.struct_time(tm_year=2018, tm_mon=10, tm_mday=12, tm_hour=11, tm_min=8, tm_sec=24, tm_wday=4, tm_yday=285, tm_isdst=0)\n"
     ]
    }
   ],
   "source": [
    "import time\n",
    "\n",
    "localtime = time.localtime(time.time())\n",
    "print(\"本地时间为: \", localtime)"
   ]
  },
  {
   "cell_type": "code",
   "execution_count": 6,
   "metadata": {},
   "outputs": [
    {
     "name": "stdout",
     "output_type": "stream",
     "text": [
      "本地时间为:  Fri Oct 12 11:09:00 2018\n"
     ]
    }
   ],
   "source": [
    "import time\n",
    "\n",
    "localtime = time.asctime(time.localtime(time.time()))\n",
    "print(\"本地时间为: \", localtime)"
   ]
  },
  {
   "cell_type": "code",
   "execution_count": 11,
   "metadata": {},
   "outputs": [
    {
     "name": "stdout",
     "output_type": "stream",
     "text": [
      "2018-10-12 11:23:59\n",
      "Fri Oct 12 11:23:59 2018\n",
      "1459175064.0\n"
     ]
    }
   ],
   "source": [
    "import time\n",
    "\n",
    "# 格式化成2016-03-20 11:45:39形式\n",
    "print(time.strftime(\"%Y-%m-%d %H:%M:%S\", time.localtime()))\n",
    "\n",
    "# 格式化成Sat Mar 28 22:24:24 2016形式\n",
    "print(time.strftime(\"%a %b %d %H:%M:%S %Y\", time.localtime()))\n",
    "\n",
    "# 将格式字符串转换为时间戳\n",
    "a = \"Sat Mar 28 22:24:24 2016\"\n",
    "print(time.mktime(time.strptime(a, \"%a %b %d %H:%M:%S %Y\")))"
   ]
  },
  {
   "cell_type": "code",
   "execution_count": 16,
   "metadata": {},
   "outputs": [
    {
     "name": "stdout",
     "output_type": "stream",
     "text": [
      "以下输出2016年1月份的日历: \n",
      "    October 2018\n",
      "Mo Tu We Th Fr Sa Su\n",
      " 1  2  3  4  5  6  7\n",
      " 8  9 10 11 12 13 14\n",
      "15 16 17 18 19 20 21\n",
      "22 23 24 25 26 27 28\n",
      "29 30 31\n",
      "\n"
     ]
    }
   ],
   "source": [
    "import calendar\n",
    "\n",
    "cal = calendar.month(2018, 10)\n",
    "print(\"以下输出2016年1月份的日历: \")\n",
    "print(cal)"
   ]
  },
  {
   "cell_type": "code",
   "execution_count": null,
   "metadata": {},
   "outputs": [],
   "source": []
  }
 ],
 "metadata": {
  "kernelspec": {
   "display_name": "Python 3",
   "language": "python",
   "name": "python3"
  },
  "language_info": {
   "codemirror_mode": {
    "name": "ipython",
    "version": 3
   },
   "file_extension": ".py",
   "mimetype": "text/x-python",
   "name": "python",
   "nbconvert_exporter": "python",
   "pygments_lexer": "ipython3",
   "version": "3.6.5"
  }
 },
 "nbformat": 4,
 "nbformat_minor": 2
}
