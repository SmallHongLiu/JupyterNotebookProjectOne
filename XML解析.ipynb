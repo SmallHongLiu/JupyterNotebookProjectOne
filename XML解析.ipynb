{
 "cells": [
  {
   "cell_type": "code",
   "execution_count": 11,
   "metadata": {},
   "outputs": [
    {
     "name": "stdout",
     "output_type": "stream",
     "text": [
      "****Movie****\n",
      "Title:  Enemy Behind\n",
      "Type:  War, Thriller\n",
      "Format:  \n",
      "Year:  2003\n",
      "Rating:  PG\n",
      "Stars:  10\n",
      "Description:  Talk about a US-Japan war\n",
      "****Movie****\n",
      "Title:  Transformers\n",
      "Type:  Anime, Science Fiction\n",
      "Format:  2003\n",
      "Year:  1989\n",
      "Rating:  R\n",
      "Stars:  8\n",
      "Description:  A schientific fiction\n",
      "****Movie****\n",
      "Title:  Trigun\n",
      "Type:  Anime, Action\n",
      "Format:  1989\n",
      "Rating:  PG\n",
      "Stars:  10\n",
      "Description:  Vash the Stampede!\n",
      "****Movie****\n",
      "Title:  Ishtar\n",
      "Type:  Comedy\n",
      "Format:  1989\n",
      "Rating:  PG\n",
      "Stars:  2\n",
      "Description:  Viewable boredom\n"
     ]
    }
   ],
   "source": [
    "import xml.sax\n",
    "\n",
    "class MovieHandler(xml.sax.ContentHandler):\n",
    "    def __init__(self):\n",
    "        self.CurrentData = \"\"\n",
    "        self.type = ''\n",
    "        self.format = ''\n",
    "        self.year = ''\n",
    "        self.rating = ''\n",
    "        self.stars = ''\n",
    "        self.description = ''\n",
    "    # 元素开始事件\n",
    "    def startElement(self, tag, attributes):\n",
    "        self.CurrentData = tag\n",
    "        if tag == 'movie':\n",
    "            print('****Movie****')\n",
    "            title = attributes['title']\n",
    "            print('Title: ', title)\n",
    "    # 元素结束事件处理\n",
    "    def endElement(self, tag):\n",
    "        if self.CurrentData == 'type':\n",
    "            print(\"Type: \", self.type)\n",
    "        elif self.CurrentData == 'format':\n",
    "            print(\"Format: \", self.year)\n",
    "        elif self.CurrentData == 'year':\n",
    "            print('Year: ', self.year)\n",
    "        elif self.CurrentData == 'rating':\n",
    "            print('Rating: ', self.rating)\n",
    "        elif self.CurrentData == 'stars':\n",
    "            print('Stars: ', self.stars)\n",
    "        elif self.CurrentData == 'description':\n",
    "            print('Description: ', self.description)\n",
    "        self.CurrentData = ''\n",
    "        \n",
    "    # 内容事件处理\n",
    "    def characters(self, content):\n",
    "        if self.CurrentData == 'type':\n",
    "            self.type = content\n",
    "        elif self.format == 'format':\n",
    "            self.format = content\n",
    "        elif self.CurrentData == 'year':\n",
    "            self.year = content\n",
    "        elif self.CurrentData == 'rating':\n",
    "            self.rating = content\n",
    "        elif self.CurrentData == 'stars':\n",
    "            self.stars = content\n",
    "        elif self.CurrentData == 'description':\n",
    "            self.description = content\n",
    "            \n",
    "if (__name__ == '__main__'):\n",
    "    # 创建一个XMLReader\n",
    "    parser = xml.sax.make_parser()\n",
    "    # turn off namespaces\n",
    "    parser.setFeature(xml.sax.handler.feature_namespaces, 0)\n",
    "    \n",
    "    # 重写ContextHandler\n",
    "    Handler = MovieHandler()\n",
    "    parser.setContentHandler(Handler)\n",
    "    \n",
    "    parser.parse('movies.xml')"
   ]
  },
  {
   "cell_type": "code",
   "execution_count": null,
   "metadata": {},
   "outputs": [],
   "source": []
  },
  {
   "cell_type": "code",
   "execution_count": null,
   "metadata": {},
   "outputs": [],
   "source": []
  },
  {
   "cell_type": "code",
   "execution_count": null,
   "metadata": {},
   "outputs": [],
   "source": []
  },
  {
   "cell_type": "code",
   "execution_count": null,
   "metadata": {},
   "outputs": [],
   "source": []
  },
  {
   "cell_type": "code",
   "execution_count": null,
   "metadata": {},
   "outputs": [],
   "source": []
  }
 ],
 "metadata": {
  "kernelspec": {
   "display_name": "Python 3",
   "language": "python",
   "name": "python3"
  },
  "language_info": {
   "codemirror_mode": {
    "name": "ipython",
    "version": 3
   },
   "file_extension": ".py",
   "mimetype": "text/x-python",
   "name": "python",
   "nbconvert_exporter": "python",
   "pygments_lexer": "ipython3",
   "version": "3.6.5"
  }
 },
 "nbformat": 4,
 "nbformat_minor": 2
}
