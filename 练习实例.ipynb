{
 "cells": [
  {
   "cell_type": "code",
   "execution_count": 1,
   "metadata": {},
   "outputs": [
    {
     "name": "stdout",
     "output_type": "stream",
     "text": [
      "1 2 3\n",
      "1 2 4\n",
      "1 3 2\n",
      "1 3 4\n",
      "1 4 2\n",
      "1 4 3\n",
      "2 1 3\n",
      "2 1 4\n",
      "2 3 1\n",
      "2 3 4\n",
      "2 4 1\n",
      "2 4 3\n",
      "3 1 2\n",
      "3 1 4\n",
      "3 2 1\n",
      "3 2 4\n",
      "3 4 1\n",
      "3 4 2\n",
      "4 1 2\n",
      "4 1 3\n",
      "4 2 1\n",
      "4 2 3\n",
      "4 3 1\n",
      "4 3 2\n"
     ]
    }
   ],
   "source": [
    "for i in range(1, 5):\n",
    "    for j in range(1, 5):\n",
    "        for k in range(1, 5):\n",
    "            if (i != k) and (i != j) and (j != k):\n",
    "                print(i, j, k)"
   ]
  },
  {
   "cell_type": "code",
   "execution_count": 2,
   "metadata": {},
   "outputs": [
    {
     "ename": "NameError",
     "evalue": "name 'raw_input' is not defined",
     "output_type": "error",
     "traceback": [
      "\u001b[0;31m---------------------------------------------------------------------------\u001b[0m",
      "\u001b[0;31mNameError\u001b[0m                                 Traceback (most recent call last)",
      "\u001b[0;32m<ipython-input-2-bbbde6eac4f5>\u001b[0m in \u001b[0;36m<module>\u001b[0;34m()\u001b[0m\n\u001b[0;32m----> 1\u001b[0;31m \u001b[0mi\u001b[0m \u001b[0;34m=\u001b[0m \u001b[0mint\u001b[0m\u001b[0;34m(\u001b[0m\u001b[0mraw_input\u001b[0m\u001b[0;34m(\u001b[0m\u001b[0;34m'净利润:'\u001b[0m\u001b[0;34m)\u001b[0m\u001b[0;34m)\u001b[0m\u001b[0;34m\u001b[0m\u001b[0m\n\u001b[0m\u001b[1;32m      2\u001b[0m \u001b[0marr\u001b[0m \u001b[0;34m=\u001b[0m \u001b[0;34m[\u001b[0m\u001b[0;36m1000000\u001b[0m\u001b[0;34m,\u001b[0m \u001b[0;36m600000\u001b[0m\u001b[0;34m,\u001b[0m \u001b[0;36m400000\u001b[0m\u001b[0;34m,\u001b[0m \u001b[0;36m200000\u001b[0m\u001b[0;34m,\u001b[0m \u001b[0;36m100000\u001b[0m\u001b[0;34m,\u001b[0m \u001b[0;36m0\u001b[0m\u001b[0;34m]\u001b[0m\u001b[0;34m\u001b[0m\u001b[0m\n\u001b[1;32m      3\u001b[0m \u001b[0mrat\u001b[0m \u001b[0;34m=\u001b[0m \u001b[0;34m[\u001b[0m\u001b[0;36m0.01\u001b[0m\u001b[0;34m,\u001b[0m \u001b[0;36m0.015\u001b[0m\u001b[0;34m,\u001b[0m \u001b[0;36m0.03\u001b[0m\u001b[0;34m,\u001b[0m \u001b[0;36m0.05\u001b[0m\u001b[0;34m,\u001b[0m \u001b[0;36m0.075\u001b[0m\u001b[0;34m,\u001b[0m \u001b[0;36m0.1\u001b[0m\u001b[0;34m]\u001b[0m\u001b[0;34m\u001b[0m\u001b[0m\n\u001b[1;32m      4\u001b[0m \u001b[0;34m\u001b[0m\u001b[0m\n\u001b[1;32m      5\u001b[0m \u001b[0mr\u001b[0m \u001b[0;34m=\u001b[0m \u001b[0;36m0\u001b[0m\u001b[0;34m\u001b[0m\u001b[0m\n",
      "\u001b[0;31mNameError\u001b[0m: name 'raw_input' is not defined"
     ]
    }
   ],
   "source": [
    "i = int(raw_input('净利润:'))\n",
    "arr = [1000000, 600000, 400000, 200000, 100000, 0]\n",
    "rat = [0.01, 0.015, 0.03, 0.05, 0.075, 0.1]\n",
    "\n",
    "r = 0\n",
    "for idx in range(0, 6):\n",
    "    if i > arr[idx]:\n",
    "        r += (i - arr[idx]) * rat[idx]\n",
    "        print((i - arr[idx]) * rat[idx])\n",
    "        i = arr[idx]\n",
    "print(r)"
   ]
  },
  {
   "cell_type": "code",
   "execution_count": 3,
   "metadata": {},
   "outputs": [
    {
     "name": "stdout",
     "output_type": "stream",
     "text": [
      "-99.0\n",
      "21.0\n",
      "261.0\n",
      "1581.0\n"
     ]
    }
   ],
   "source": [
    "for i in range(1, 85):\n",
    "    if 168 % i == 0:\n",
    "        j = 168 / i\n",
    "        if i > j and (i + j) % 2 == 0 and (i - j) % 2 == 0:\n",
    "            m = (i + j) / 2\n",
    "            n = (i - j) / 2\n",
    "            x = n * n - 100\n",
    "            print(x)"
   ]
  },
  {
   "cell_type": "code",
   "execution_count": 4,
   "metadata": {},
   "outputs": [
    {
     "ename": "NameError",
     "evalue": "name 'raw_input' is not defined",
     "output_type": "error",
     "traceback": [
      "\u001b[0;31m---------------------------------------------------------------------------\u001b[0m",
      "\u001b[0;31mNameError\u001b[0m                                 Traceback (most recent call last)",
      "\u001b[0;32m<ipython-input-4-7308a0d424a1>\u001b[0m in \u001b[0;36m<module>\u001b[0;34m()\u001b[0m\n\u001b[0;32m----> 1\u001b[0;31m \u001b[0myear\u001b[0m \u001b[0;34m=\u001b[0m \u001b[0mint\u001b[0m\u001b[0;34m(\u001b[0m\u001b[0mraw_input\u001b[0m\u001b[0;34m(\u001b[0m\u001b[0;34m'year:\\n'\u001b[0m\u001b[0;34m)\u001b[0m\u001b[0;34m)\u001b[0m\u001b[0;34m\u001b[0m\u001b[0m\n\u001b[0m\u001b[1;32m      2\u001b[0m \u001b[0mmoth\u001b[0m \u001b[0;34m=\u001b[0m \u001b[0mint\u001b[0m\u001b[0;34m(\u001b[0m\u001b[0mraw_input\u001b[0m\u001b[0;34m(\u001b[0m\u001b[0;34m'month:\\n'\u001b[0m\u001b[0;34m)\u001b[0m\u001b[0;34m)\u001b[0m\u001b[0;34m\u001b[0m\u001b[0m\n\u001b[1;32m      3\u001b[0m \u001b[0mday\u001b[0m \u001b[0;34m=\u001b[0m \u001b[0mint\u001b[0m\u001b[0;34m(\u001b[0m\u001b[0mraw_input\u001b[0m\u001b[0;34m(\u001b[0m\u001b[0;34m'day:\\n'\u001b[0m\u001b[0;34m)\u001b[0m\u001b[0;34m)\u001b[0m\u001b[0;34m\u001b[0m\u001b[0m\n\u001b[1;32m      4\u001b[0m \u001b[0;34m\u001b[0m\u001b[0m\n\u001b[1;32m      5\u001b[0m \u001b[0mmonths\u001b[0m \u001b[0;34m=\u001b[0m \u001b[0;34m(\u001b[0m\u001b[0;36m0\u001b[0m\u001b[0;34m,\u001b[0m \u001b[0;36m31\u001b[0m\u001b[0;34m,\u001b[0m \u001b[0;36m59\u001b[0m\u001b[0;34m,\u001b[0m \u001b[0;36m90\u001b[0m\u001b[0;34m,\u001b[0m \u001b[0;36m120\u001b[0m\u001b[0;34m,\u001b[0m \u001b[0;36m151\u001b[0m\u001b[0;34m,\u001b[0m \u001b[0;36m181\u001b[0m\u001b[0;34m,\u001b[0m \u001b[0;36m212\u001b[0m\u001b[0;34m,\u001b[0m \u001b[0;36m243\u001b[0m\u001b[0;34m,\u001b[0m \u001b[0;36m273\u001b[0m\u001b[0;34m,\u001b[0m \u001b[0;36m304\u001b[0m\u001b[0;34m,\u001b[0m \u001b[0;36m334\u001b[0m\u001b[0;34m)\u001b[0m\u001b[0;34m\u001b[0m\u001b[0m\n",
      "\u001b[0;31mNameError\u001b[0m: name 'raw_input' is not defined"
     ]
    }
   ],
   "source": [
    "year = int(raw_input('year:\\n'))\n",
    "moth = int(raw_input('month:\\n'))\n",
    "day = int(raw_input('day:\\n'))\n",
    "\n",
    "months = (0, 31, 59, 90, 120, 151, 181, 212, 243, 273, 304, 334)\n",
    "if 0 < month <= 12:\n",
    "    sum = months[month - 1]\n",
    "else:\n",
    "    print('data error')\n",
    "sum += day\n",
    "if (year % 400 == 0) or ((year % 4 == 0) and (year % 100 != 0)):\n",
    "    leap = 1\n",
    "if (leap == 1 and month > 2):\n",
    "    sum += 1\n",
    "print('it is the %dth day.' % sum)"
   ]
  },
  {
   "cell_type": "code",
   "execution_count": null,
   "metadata": {},
   "outputs": [],
   "source": [
    "l = []\n",
    "for i in range(3):\n",
    "    x = int(raw_input('integer:\\n'))\n",
    "    l.apend(x)\n",
    "l.sort()\n",
    "print(l)"
   ]
  },
  {
   "cell_type": "code",
   "execution_count": 5,
   "metadata": {},
   "outputs": [
    {
     "name": "stdout",
     "output_type": "stream",
     "text": [
      "[5, 6, 8]\n"
     ]
    }
   ],
   "source": [
    "l = [8, 5, 6]\n",
    "l.sort()\n",
    "print(l)"
   ]
  },
  {
   "cell_type": "code",
   "execution_count": 9,
   "metadata": {},
   "outputs": [
    {
     "name": "stdout",
     "output_type": "stream",
     "text": [
      "55\n",
      "55\n",
      "[1, 1, 2, 3, 5, 8, 13, 21, 34, 55]\n"
     ]
    }
   ],
   "source": [
    "# 斐波那契数列\n",
    "\n",
    "# 方法1: 遍历\n",
    "def fib(n):\n",
    "    a, b = 1, 1\n",
    "    for i in range(n - 1):\n",
    "        a, b = b, a + b\n",
    "    return a\n",
    "\n",
    "print(fib(10))\n",
    "\n",
    "# 方法2: 递归\n",
    "def fib(n):\n",
    "    if n == 1 or n == 2:\n",
    "        return 1\n",
    "    return fib(n - 1) + fib(n - 2)\n",
    "print(fib(10))\n",
    "\n",
    "# 方法3\n",
    "def fib(n):\n",
    "    if n == 1:\n",
    "        return [1]\n",
    "    if n == 2:\n",
    "        return [1, 1]\n",
    "    fibs = [1, 1]\n",
    "    for i in range(2, n):\n",
    "        fibs.append(fibs[-1] + fibs[-2])\n",
    "    return fibs\n",
    "print(fib(10))"
   ]
  },
  {
   "cell_type": "code",
   "execution_count": 11,
   "metadata": {},
   "outputs": [
    {
     "name": "stdout",
     "output_type": "stream",
     "text": [
      "[1, 2, 3]\n"
     ]
    }
   ],
   "source": [
    "a = [1, 2, 3]\n",
    "b = a[:]\n",
    "print(b)"
   ]
  },
  {
   "cell_type": "code",
   "execution_count": 18,
   "metadata": {},
   "outputs": [
    {
     "name": "stdout",
     "output_type": "stream",
     "text": [
      "\n",
      "1 * 1 = 1  \n",
      "2 * 1 = 2  2 * 2 = 4  \n",
      "3 * 1 = 3  3 * 2 = 6  3 * 3 = 9  \n",
      "4 * 1 = 4  4 * 2 = 8  4 * 3 = 12  4 * 4 = 16  \n",
      "5 * 1 = 5  5 * 2 = 10  5 * 3 = 15  5 * 4 = 20  5 * 5 = 25  \n",
      "6 * 1 = 6  6 * 2 = 12  6 * 3 = 18  6 * 4 = 24  6 * 5 = 30  6 * 6 = 36  \n",
      "7 * 1 = 7  7 * 2 = 14  7 * 3 = 21  7 * 4 = 28  7 * 5 = 35  7 * 6 = 42  7 * 7 = 49  \n",
      "8 * 1 = 8  8 * 2 = 16  8 * 3 = 24  8 * 4 = 32  8 * 5 = 40  8 * 6 = 48  8 * 7 = 56  8 * 8 = 64  \n",
      "9 * 1 = 9  9 * 2 = 18  9 * 3 = 27  9 * 4 = 36  9 * 5 = 45  9 * 6 = 54  9 * 7 = 63  9 * 8 = 72  9 * 9 = 81  "
     ]
    }
   ],
   "source": [
    "for i in range(1, 10):\n",
    "    print()\n",
    "    for j in range(1, i + 1):\n",
    "        print('%d * %d = %d  ' % (i, j, i * j), end='');"
   ]
  },
  {
   "cell_type": "code",
   "execution_count": 19,
   "metadata": {},
   "outputs": [
    {
     "name": "stdout",
     "output_type": "stream",
     "text": [
      "1 a\n",
      "2 b\n"
     ]
    }
   ],
   "source": [
    "import time\n",
    "myD = {1: 'a', 2: 'b'}\n",
    "for key, value in dict.items(myD):\n",
    "    print(key, value)\n",
    "    time.sleep(1)"
   ]
  },
  {
   "cell_type": "code",
   "execution_count": 23,
   "metadata": {},
   "outputs": [
    {
     "name": "stdout",
     "output_type": "stream",
     "text": [
      "2018-10-15 17:12:33\n",
      "2018-10-15 17:12:43\n"
     ]
    }
   ],
   "source": [
    "import time\n",
    "print(time.strftime('%Y-%m-%d %H:%M:%S', time.localtime(time.time())))\n",
    "\n",
    "time.sleep(10)\n",
    "\n",
    "print(time.strftime('%Y-%m-%d %H:%M:%S', time.localtime(time.time())))"
   ]
  },
  {
   "cell_type": "code",
   "execution_count": 24,
   "metadata": {},
   "outputs": [
    {
     "name": "stdout",
     "output_type": "stream",
     "text": [
      "           1            1\n",
      "           2            3\n",
      "           5            8\n",
      "\n",
      "          13           21\n",
      "          34           55\n",
      "          89          144\n",
      "\n",
      "         233          377\n",
      "         610          987\n",
      "        1597         2584\n",
      "\n",
      "        4181         6765\n",
      "       10946        17711\n",
      "       28657        46368\n",
      "\n",
      "       75025       121393\n",
      "      196418       317811\n",
      "      514229       832040\n",
      "\n",
      "     1346269      2178309\n",
      "     3524578      5702887\n",
      "     9227465     14930352\n",
      "\n",
      "    24157817     39088169\n",
      "    63245986    102334155\n",
      "   165580141    267914296\n",
      "\n"
     ]
    }
   ],
   "source": [
    "f1 = 1\n",
    "f2 = 1\n",
    "for i in range(1, 22):\n",
    "    print('%12ld %12ld' % (f1, f2))\n",
    "    if (i % 3) == 0:\n",
    "        print('')\n",
    "    f1 = f1 + f2\n",
    "    f2 = f1 + f2"
   ]
  },
  {
   "cell_type": "code",
   "execution_count": 26,
   "metadata": {},
   "outputs": [
    {
     "name": "stdout",
     "output_type": "stream",
     "text": [
      "101 \n",
      "103 \n",
      "107 \n",
      "109 \n",
      "113 \n",
      "127 \n",
      "131 \n",
      "137 \n",
      "139 \n",
      "149 \n",
      "\n",
      "151 \n",
      "157 \n",
      "163 \n",
      "167 \n",
      "173 \n",
      "179 \n",
      "181 \n",
      "191 \n",
      "193 \n",
      "197 \n",
      "\n",
      "199 \n",
      "The total is 21\n"
     ]
    }
   ],
   "source": [
    "h = 0\n",
    "leap = 1\n",
    "\n",
    "from math import sqrt\n",
    "from sys import stdout\n",
    "for m in range(101, 201):\n",
    "    k = int(sqrt(m + 1))\n",
    "    for i in range(2, k + 1):\n",
    "        if m % i == 0:\n",
    "            leap = 0\n",
    "            break\n",
    "    if leap == 1:zzazzsv2;98\n",
    "        print('%-4d' % m)jkl;\n",
    "        h +=1\n",
    "        if h % 10 == 0:\n",
    "            print('')\n",
    "    leap = 1\n",
    "print('The total is %d' % h)"
   ]
  },
  {
   "cell_type": "code",
   "execution_count": 6,
   "metadata": {},
   "outputs": [
    {
     "name": "stdout",
     "output_type": "stream",
     "text": [
      "153\n",
      "370\n",
      "371\n",
      "407\n"
     ]
    }
   ],
   "source": [
    "# 打印指定范围的水仙花数\n",
    "\n",
    "# 注意：python 3.x的版本之后，／表示的有不再是取整，取整需使用//\n",
    "for n in range(100, 1000):\n",
    "    i = n // 100\n",
    "    j = n // 10 % 10\n",
    "    k = n % 10\n",
    "    if n == i ** 3 + j ** 3 + k ** 3:\n",
    "        print(n)"
   ]
  },
  {
   "cell_type": "code",
   "execution_count": 12,
   "metadata": {},
   "outputs": [
    {
     "name": "stdout",
     "output_type": "stream",
     "text": [
      "90 = 2 * 3 * 3 * 5\n",
      "100 = 2 * 2 * 5 * 5\n"
     ]
    }
   ],
   "source": [
    "# 将一个正整数分解质因数\n",
    "\n",
    "def reduceNum(n):\n",
    "    print('{} = '.format(n), end='')\n",
    "    if not isinstance(n, int) or n <= 0:\n",
    "        print('请输入一个正确的数字!')\n",
    "        exit(0)\n",
    "    elif n in [1]:\n",
    "        print('{}'.format(n))\n",
    "    while n not in [1]:\n",
    "        for index in range(2, n + 1):\n",
    "            if n % index == 0:\n",
    "                n = int(n / index)\n",
    "                if n == 1:\n",
    "                    print(index)\n",
    "                else:\n",
    "                    print('{} * '.format(index), end='')\n",
    "                break\n",
    "                \n",
    "reduceNum(90)\n",
    "reduceNum(100)"
   ]
  },
  {
   "cell_type": "code",
   "execution_count": null,
   "metadata": {},
   "outputs": [],
   "source": [
    "score = int(raw_input('输入分数:\\n'))\n",
    "if score >= 90:\n",
    "    grade = 'A'\n",
    "elif score >= 60:\n",
    "    grade = 'B'\n",
    "else:\n",
    "    grade = 'C'\n",
    "\n",
    "print('％d 属于 %s' % (score, grade))"
   ]
  },
  {
   "cell_type": "code",
   "execution_count": 17,
   "metadata": {},
   "outputs": [
    {
     "name": "stdout",
     "output_type": "stream",
     "text": [
      "16/10/2018\n",
      "05/01/1941\n",
      "06/01/1941\n",
      "05/01/1942\n"
     ]
    }
   ],
   "source": [
    "import datetime\n",
    "\n",
    "if __name__ == '__main__':\n",
    "    \n",
    "    # 输出今日日期，格式为dd/mm/yyyy，更多选项可以查看strftime()方法\n",
    "    print(datetime.date.today().strftime('%d/%m/%Y'))\n",
    "    \n",
    "    # 创建日期对象\n",
    "    miyazakiBirthDate = datetime.date(1941, 1, 5)\n",
    "    print(miyazakiBirthDate.strftime('%d/%m/%Y'))\n",
    "    \n",
    "    # 日期算术运算\n",
    "    miyazakiBirthNextDay = miyazakiBirthDate + datetime.timedelta(days=1)\n",
    "    print(miyazakiBirthNextDay.strftime('%d/%m/%Y'))\n",
    "    \n",
    "    # 日期替换\n",
    "    miyazakiFirstBirthday = miyazakiBirthDate.replace(year=miyazakiBirthDate.year + 1)\n",
    "    print(miyazakiFirstBirthday.strftime('%d/%m/%Y'))"
   ]
  },
  {
   "cell_type": "code",
   "execution_count": 18,
   "metadata": {},
   "outputs": [
    {
     "ename": "NameError",
     "evalue": "name 'raw_input' is not defined",
     "output_type": "error",
     "traceback": [
      "\u001b[0;31m---------------------------------------------------------------------------\u001b[0m",
      "\u001b[0;31mNameError\u001b[0m                                 Traceback (most recent call last)",
      "\u001b[0;32m<ipython-input-18-a021d873ea60>\u001b[0m in \u001b[0;36m<module>\u001b[0;34m()\u001b[0m\n\u001b[1;32m      1\u001b[0m \u001b[0;32mimport\u001b[0m \u001b[0mstring\u001b[0m\u001b[0;34m\u001b[0m\u001b[0m\n\u001b[1;32m      2\u001b[0m \u001b[0;34m\u001b[0m\u001b[0m\n\u001b[0;32m----> 3\u001b[0;31m \u001b[0ms\u001b[0m \u001b[0;34m=\u001b[0m \u001b[0mraw_input\u001b[0m\u001b[0;34m(\u001b[0m\u001b[0;34m'请输入一个字符串:\\n'\u001b[0m\u001b[0;34m)\u001b[0m\u001b[0;34m\u001b[0m\u001b[0m\n\u001b[0m\u001b[1;32m      4\u001b[0m \u001b[0mletters\u001b[0m \u001b[0;34m=\u001b[0m \u001b[0;36m0\u001b[0m\u001b[0;34m\u001b[0m\u001b[0m\n\u001b[1;32m      5\u001b[0m \u001b[0mspace\u001b[0m \u001b[0;34m=\u001b[0m \u001b[0;36m0\u001b[0m\u001b[0;34m\u001b[0m\u001b[0m\n",
      "\u001b[0;31mNameError\u001b[0m: name 'raw_input' is not defined"
     ]
    }
   ],
   "source": [
    "import string\n",
    "\n",
    "# 方法1: 使用while循环\n",
    "s = raw_input('请输入一个字符串:\\n')\n",
    "letters = 0\n",
    "space = 0\n",
    "digit = 0\n",
    "others = 0\n",
    "i = 0\n",
    "while i < len(s):\n",
    "    c = s[i]\n",
    "    i += 1\n",
    "    if c.isalpha():\n",
    "        letters += 1\n",
    "    elif c.isspace():\n",
    "        space += 1\n",
    "    elif c.isdigit():\n",
    "        digit += 1\n",
    "    else:\n",
    "        others += 1\n",
    "print(\"char = %d, space = %d, digit = %d, other = %d\" %(letters, space, digit, others))\n",
    "\n",
    "# 方法2: 使用for循环\n",
    "letters = 0\n",
    "space = 0\n",
    "digit = 0\n",
    "others = 0\n",
    "for c in s:\n",
    "    if c.isalpha():\n",
    "        letters += 1\n",
    "    elif c.isspace():\n",
    "        space += 1\n",
    "    elif c.isdigit():\n",
    "        digit += 1\n",
    "    else:\n",
    "        others += 1\n",
    "print('char = %d, space = %d, digit = %d, others = %d' %(letters, space, digit, others))"
   ]
  },
  {
   "cell_type": "code",
   "execution_count": 21,
   "metadata": {},
   "outputs": [
    {
     "name": "stdout",
     "output_type": "stream",
     "text": [
      "4\n",
      "44\n",
      "444\n",
      "4444\n",
      "计算和为:  4936\n"
     ]
    }
   ],
   "source": [
    "Tn = 0\n",
    "Sn = []\n",
    "# n = int(raw_input('n = '))\n",
    "# a = int(raw_input('a = '))\n",
    "n = 4\n",
    "a = 4\n",
    "for count in range(n):\n",
    "    Tn = Tn + a\n",
    "    a = a * 10\n",
    "    Sn.append(Tn)\n",
    "    print(Tn)\n",
    "Sn = sum(Sn)\n",
    "print('计算和为: ', Sn)"
   ]
  },
  {
   "cell_type": "code",
   "execution_count": 22,
   "metadata": {},
   "outputs": [
    {
     "name": "stdout",
     "output_type": "stream",
     "text": [
      "6\n"
     ]
    },
    {
     "ename": "TypeError",
     "evalue": "'type' object is not subscriptable",
     "output_type": "error",
     "traceback": [
      "\u001b[0;31m---------------------------------------------------------------------------\u001b[0m",
      "\u001b[0;31mTypeError\u001b[0m                                 Traceback (most recent call last)",
      "\u001b[0;32m<ipython-input-22-0f8921802afb>\u001b[0m in \u001b[0;36m<module>\u001b[0;34m()\u001b[0m\n\u001b[1;32m     14\u001b[0m         \u001b[0mprint\u001b[0m\u001b[0;34m(\u001b[0m\u001b[0mj\u001b[0m\u001b[0;34m)\u001b[0m\u001b[0;34m\u001b[0m\u001b[0m\n\u001b[1;32m     15\u001b[0m         \u001b[0;32mfor\u001b[0m \u001b[0mi\u001b[0m \u001b[0;32min\u001b[0m \u001b[0mrange\u001b[0m\u001b[0;34m(\u001b[0m\u001b[0mn\u001b[0m\u001b[0;34m)\u001b[0m\u001b[0;34m:\u001b[0m\u001b[0;34m\u001b[0m\u001b[0m\n\u001b[0;32m---> 16\u001b[0;31m             \u001b[0mstdout\u001b[0m\u001b[0;34m.\u001b[0m\u001b[0mwrite\u001b[0m\u001b[0;34m(\u001b[0m\u001b[0mstr\u001b[0m\u001b[0;34m[\u001b[0m\u001b[0mk\u001b[0m\u001b[0;34m[\u001b[0m\u001b[0mi\u001b[0m\u001b[0;34m]\u001b[0m\u001b[0;34m]\u001b[0m\u001b[0;34m)\u001b[0m\u001b[0;34m\u001b[0m\u001b[0m\n\u001b[0m\u001b[1;32m     17\u001b[0m             \u001b[0mstdout\u001b[0m\u001b[0;34m.\u001b[0m\u001b[0mwrite\u001b[0m\u001b[0;34m(\u001b[0m\u001b[0;34m' '\u001b[0m\u001b[0;34m)\u001b[0m\u001b[0;34m\u001b[0m\u001b[0m\n\u001b[1;32m     18\u001b[0m         \u001b[0mprint\u001b[0m\u001b[0;34m(\u001b[0m\u001b[0mk\u001b[0m\u001b[0;34m[\u001b[0m\u001b[0mn\u001b[0m\u001b[0;34m]\u001b[0m\u001b[0;34m)\u001b[0m\u001b[0;34m\u001b[0m\u001b[0m\n",
      "\u001b[0;31mTypeError\u001b[0m: 'type' object is not subscriptable"
     ]
    }
   ],
   "source": [
    "# 找1000以内的所有完数\n",
    "\n",
    "from sys import stdout\n",
    "for j in range(2, 1001):\n",
    "    k = []\n",
    "    n = -1\n",
    "    s = j\n",
    "    for i in range(1, j):\n",
    "        if j % i == 0:\n",
    "            n += 1\n",
    "            s -= i\n",
    "            k.append(i)\n",
    "    if s == 0:\n",
    "        print(j)\n",
    "        for i in range(n):\n",
    "            stdout.write(str[k[i]])\n",
    "            stdout.write(' ')\n",
    "        print(k[n])"
   ]
  },
  {
   "cell_type": "code",
   "execution_count": 28,
   "metadata": {},
   "outputs": [
    {
     "name": "stdout",
     "output_type": "stream",
     "text": [
      "总高度为: tour = 299.609375\n",
      "第10次反弹高度: height = 0.097656, 0.195312\n"
     ]
    }
   ],
   "source": [
    "tour = []\n",
    "height = []\n",
    "\n",
    "hei = 100\n",
    "tim = 10\n",
    "\n",
    "for i in range(1, tim + 1):\n",
    "    if i == 1:\n",
    "        tour.append(hei)\n",
    "    else:\n",
    "        tour.append(2 * hei)\n",
    "    hei /= 2\n",
    "    height.append(hei)\n",
    "print('总高度为: tour = {0}'.format(sum(tour)))\n",
    "print('第10次反弹高度: height = %f, %f' % (height[-1], height[-2])) # 注意：－1相当于表示数组的最后一个元素"
   ]
  },
  {
   "cell_type": "code",
   "execution_count": 29,
   "metadata": {},
   "outputs": [
    {
     "name": "stdout",
     "output_type": "stream",
     "text": [
      "总共的桃子数量为:  1534\n"
     ]
    }
   ],
   "source": [
    "x2 = 1\n",
    "for day in range(9, 0, -1):\n",
    "    x1 = (x2 + 1) * 2\n",
    "    x2 = x1\n",
    "print('总共的桃子数量为: ', x1)"
   ]
  },
  {
   "cell_type": "code",
   "execution_count": 30,
   "metadata": {},
   "outputs": [
    {
     "name": "stdout",
     "output_type": "stream",
     "text": [
      "order is a -- z\t b -- x\t c -- y\n"
     ]
    }
   ],
   "source": [
    "for i in range(ord('x'), ord('z') + 1):\n",
    "    for j in range(ord('x'), ord('z') + 1):\n",
    "        if i != j:\n",
    "            for k in range(ord('x'), ord('z') + 1):\n",
    "                if (i != k) and (j != k):\n",
    "                    if (i != ord('x')) and (k != ord('x')) and (k != ord('z')):\n",
    "                        print('order is a -- %s\\t b -- %s\\t c -- %s' %(chr(i), chr(j), chr(k)))"
   ]
  },
  {
   "cell_type": "code",
   "execution_count": 32,
   "metadata": {},
   "outputs": [
    {
     "name": "stdout",
     "output_type": "stream",
     "text": [
      "   *\n",
      "  ***\n",
      " *****\n",
      "*******\n",
      " *****\n",
      "  ***\n",
      "   *\n"
     ]
    }
   ],
   "source": [
    "from sys import stdout\n",
    "for i in range(4):\n",
    "    for j in range(2 - i + 1):\n",
    "        stdout.write(' ')\n",
    "    for k in range(2 * i + 1):\n",
    "        stdout.write('*')\n",
    "    print()\n",
    "for i in range(3):\n",
    "    for j in range(i + 1):\n",
    "        stdout.write(' ')\n",
    "    for k in range(4 - 2 * i + 1):\n",
    "        stdout.write('*')\n",
    "    print()"
   ]
  },
  {
   "cell_type": "code",
   "execution_count": 34,
   "metadata": {},
   "outputs": [
    {
     "name": "stdout",
     "output_type": "stream",
     "text": [
      "32.66026079864164\n",
      "32.66026079864164\n",
      "32.66026079864164\n"
     ]
    }
   ],
   "source": [
    "# 有一分数序列：2/1，3/2，5/3，8/5，13/8，21/13...求出这个数列的前20项之和\n",
    "\n",
    "# 方法一\n",
    "a = 2\n",
    "b = 1\n",
    "s = 0\n",
    "for n in range(1, 21):\n",
    "    s += a / b\n",
    "    t = a\n",
    "    a = a + b\n",
    "    b = t\n",
    "print(s)\n",
    "\n",
    "# 方法二\n",
    "a = 2\n",
    "b = 1\n",
    "s = 0\n",
    "for n in range(1, 21):\n",
    "    s+= a / b\n",
    "    b, a = a, a + b\n",
    "print(s)\n",
    "\n",
    "# 方法三\n",
    "a = 2\n",
    "b = 1\n",
    "l = []\n",
    "\n",
    "l.append(a / b)\n",
    "for n in range(1, 20):\n",
    "    b, a = a, a + b\n",
    "    l.append(a / b)\n",
    "print(sum(l))"
   ]
  },
  {
   "cell_type": "code",
   "execution_count": 3,
   "metadata": {},
   "outputs": [
    {
     "name": "stdout",
     "output_type": "stream",
     "text": [
      "1! + 2! + 3! + ... + 20! = 2561327494111820313\n",
      "1! + 2! + 3! + ... + 20! = 2561327494111820313\n"
     ]
    }
   ],
   "source": [
    "# 求1+2!+3!+...+20!的和\n",
    "\n",
    "# 方法一\n",
    "n = 0\n",
    "s = 0\n",
    "t = 1\n",
    "for n in range(1, 21):\n",
    "    t *= n\n",
    "    s += t\n",
    "print('1! + 2! + 3! + ... + 20! = %d' % s)\n",
    "\n",
    "# 方法二\n",
    "s = 0\n",
    "l = range(1, 21)\n",
    "def op(x):\n",
    "    r = 1\n",
    "    for i in range(1, x + 1):\n",
    "        r *= i\n",
    "    return r\n",
    "s = sum(map(op, l))\n",
    "print('1! + 2! + 3! + ... + 20! = %d' % s)"
   ]
  },
  {
   "cell_type": "code",
   "execution_count": 4,
   "metadata": {},
   "outputs": [
    {
     "name": "stdout",
     "output_type": "stream",
     "text": [
      "120\n"
     ]
    }
   ],
   "source": [
    "# 利用递归方法求5!\n",
    "\n",
    "def fact(j):\n",
    "    sum = 0\n",
    "    if j == 0:\n",
    "        sum = 1\n",
    "    else:\n",
    "        sum = j * fact(j - 1)\n",
    "    return sum\n",
    "print(fact(5))"
   ]
  },
  {
   "cell_type": "code",
   "execution_count": null,
   "metadata": {},
   "outputs": [],
   "source": [
    "def output(s, l):\n",
    "    if l == 0:\n",
    "        return\n",
    "    print(s[l-1])\n",
    "    output(s, l-1)\n",
    "s = raw_input('Input a String:')\n",
    "l = len(s)\n",
    "output(s, l)"
   ]
  },
  {
   "cell_type": "code",
   "execution_count": 5,
   "metadata": {},
   "outputs": [
    {
     "name": "stdout",
     "output_type": "stream",
     "text": [
      "18\n"
     ]
    }
   ],
   "source": [
    "def age(n):\n",
    "    if n == 1:\n",
    "        c = 10\n",
    "    else:\n",
    "        c = age(n - 1) + 2\n",
    "    return c\n",
    "print(age(5))"
   ]
  },
  {
   "cell_type": "code",
   "execution_count": 6,
   "metadata": {},
   "outputs": [
    {
     "name": "stdout",
     "output_type": "stream",
     "text": [
      "5位数:  9 5 4 3 2\n"
     ]
    }
   ],
   "source": [
    "# 给一个不多于5位的正整数，要求：一、求它是几位数，二、逆序打印出各位数字\n",
    "\n",
    "x = 23459\n",
    "a = x // 10000\n",
    "b = x % 10000 // 1000\n",
    "c = x % 1000 // 100\n",
    "d = x % 100 // 10\n",
    "e = x % 10\n",
    "if a != 0:\n",
    "    print('5位数: ', e, d, c, b, a)\n",
    "elif b != 0:\n",
    "    print('4位数: ', e, d, c, b)\n",
    "elif c != 0:\n",
    "    print('3位数: ', e, d, c)\n",
    "elif d != 0:\n",
    "    print('2位数: ', e, d)\n",
    "else:\n",
    "    print('1位数: ', e)"
   ]
  },
  {
   "cell_type": "code",
   "execution_count": 10,
   "metadata": {},
   "outputs": [
    {
     "name": "stdout",
     "output_type": "stream",
     "text": [
      "12321 是一个回文数\n"
     ]
    }
   ],
   "source": [
    "# 判断一个5位数是不是回文数，即12321是回文数\n",
    "a = 12321\n",
    "x = str(a)\n",
    "flag = True\n",
    "\n",
    "for i in range(len(x) // 2):\n",
    "    if x[i] != x[-i - 1]:\n",
    "        flag = False\n",
    "        break\n",
    "if flag:\n",
    "    print('%d 是一个回文数' % a)\n",
    "else:\n",
    "    print('%d 不是一个回文数' % a)"
   ]
  },
  {
   "cell_type": "code",
   "execution_count": null,
   "metadata": {},
   "outputs": [],
   "source": [
    "# 判断一个字符串是星期几\n",
    "letter = raw_input('please input:')\n",
    "if letter == 'S':\n",
    "    print('please input second letter:')\n",
    "    letter = raw_input('please input:')\n",
    "    if letter == 'a':\n",
    "        print('Staurday')\n",
    "    elif letter == 'u':\n",
    "        print('Sunday')\n",
    "    else:\n",
    "        print('data error')\n",
    "elif letter == 'F':\n",
    "    print('Friday')\n",
    "elif letter == 'M':\n",
    "    print('Monday')\n",
    "elif letter = 'T':\n",
    "    print('please input second letter')\n",
    "    letter = raw_input('please input:')\n",
    "    if letter == 'u':\n",
    "        print('Tuesgay')\n",
    "    elif letter == 'h':\n",
    "        print('Thursday')\n",
    "    else:\n",
    "        print('data error')\n",
    "elif letter == 'w':\n",
    "    print('Wednesday')\n",
    "else:\n",
    "    print('data error')"
   ]
  },
  {
   "cell_type": "code",
   "execution_count": 11,
   "metadata": {},
   "outputs": [
    {
     "name": "stdout",
     "output_type": "stream",
     "text": [
      "three\n",
      "two\n",
      "one\n"
     ]
    }
   ],
   "source": [
    "a = ['one', 'two', 'three']\n",
    "for i in a[::-1]:\n",
    "    print(i)"
   ]
  },
  {
   "cell_type": "code",
   "execution_count": 1,
   "metadata": {},
   "outputs": [
    {
     "name": "stdout",
     "output_type": "stream",
     "text": [
      "1,2,3,4,5\n"
     ]
    }
   ],
   "source": [
    "# 分割列表\n",
    "L = [1, 2, 3, 4, 5]\n",
    "s1 = ','.join(str(n) for n in L)\n",
    "print(s1)"
   ]
  },
  {
   "cell_type": "code",
   "execution_count": 3,
   "metadata": {},
   "outputs": [
    {
     "name": "stdout",
     "output_type": "stream",
     "text": [
      "hello world\n",
      "hello world\n",
      "hello world\n"
     ]
    }
   ],
   "source": [
    "# 函数调用\n",
    "def hello_world():\n",
    "    print('hello world')\n",
    "def three_hellos():\n",
    "    for i in range(3):\n",
    "        hello_world()\n",
    "if __name__ == '__main__':\n",
    "    three_hellos()"
   ]
  },
  {
   "cell_type": "code",
   "execution_count": 4,
   "metadata": {},
   "outputs": [
    {
     "name": "stdout",
     "output_type": "stream",
     "text": [
      "\u001b[93m警告的颜色字体?\u001b[0m\n"
     ]
    }
   ],
   "source": [
    "# 文本颜色设置\n",
    "class bcolors:\n",
    "    HEADER = '\\033[95m'\n",
    "    OKBLUE = '\\033[94m'\n",
    "    OKGREEN = '\\033[92m'\n",
    "    WARNING = '\\033[93m'\n",
    "    FAIL = '\\033[91m'\n",
    "    ENDC = '\\033[0m'\n",
    "    BOLD = '\\033[1m'\n",
    "    UNDERLINE = '\\033[4m'\n",
    "print(bcolors.WARNING + '警告的颜色字体?' + bcolors.ENDC)"
   ]
  },
  {
   "cell_type": "code",
   "execution_count": 10,
   "metadata": {},
   "outputs": [
    {
     "name": "stdout",
     "output_type": "stream",
     "text": [
      "2, 3, 5, 7, 11, 13, 17, 19, 23, 29, 31, 37, 41, 43, 47, 53, 59, 61, 67, 71, 73, 79, 83, 89, 97, "
     ]
    }
   ],
   "source": [
    "# 求100之内的素数\n",
    "\n",
    "# lower = int(input('输入区间最小值: '))\n",
    "# upper = int(input('输入区间最大值: '))\n",
    "\n",
    "lower = 1\n",
    "upper = 100\n",
    "for num in range(lower, upper + 1):\n",
    "    # 素数大于1\n",
    "    if num > 1:\n",
    "        for i in range(2, num):\n",
    "            if (num % i) == 0:\n",
    "                break\n",
    "        else:\n",
    "            print(num, end = \", \")"
   ]
  },
  {
   "cell_type": "code",
   "execution_count": 16,
   "metadata": {},
   "outputs": [
    {
     "name": "stdout",
     "output_type": "stream",
     "text": [
      "请输入10个数字:\n",
      "\n",
      "5, 3, 23, 67, 2, 56, 45, 98, 239, 9, \n",
      "排序之后: \n",
      "2, 3, 5, 9, 23, 45, 56, 67, 98, 239, "
     ]
    }
   ],
   "source": [
    "# 排序\n",
    "\n",
    "if __name__ == '__main__':\n",
    "    N = 10\n",
    "    print('请输入10个数字:\\n')\n",
    "    '''\n",
    "    l = []\n",
    "    for i in range(N):\n",
    "        l.append(int(raw_input('输入一个数字:\\n')))\n",
    "    print('')\n",
    "    '''\n",
    "    l = [5, 3, 23, 67, 2, 56, 45, 98, 239, 9]\n",
    "    for i in range(N):\n",
    "        print(l[i], end = \", \")\n",
    "    print('')\n",
    "    \n",
    "    # 排序10个数字\n",
    "    for i in range(N - 1):\n",
    "        min = i\n",
    "        # 查找最小元素的下标\n",
    "        for j in range(i + 1, N):\n",
    "            if l[min] > l[j] : min = j \n",
    "        l[i], l[min] = l[min], l[i] # 交换元素\n",
    "    print('排序之后: ')\n",
    "    for i in range(N):\n",
    "        print(l[i], end = \", \")"
   ]
  },
  {
   "cell_type": "code",
   "execution_count": null,
   "metadata": {},
   "outputs": [],
   "source": [
    "# 计算一个矩阵的主对角线元素之和\n",
    "# if __name__ == \"__main__\":\n",
    "#     a = []\n",
    "    # 二维矩阵\n",
    "    a = [[78, 34, 23], [34, 56, 33], [12, 21, 2]]\n",
    "    sum = 0.0\n",
    "    '''\n",
    "    for i in range(3):\n",
    "        a.append([])\n",
    "        for j in range(3):\n",
    "            a[i].append(float(raw_input('input num:\\n')))\n",
    "    '''\n",
    "    for i in range(3):\n",
    "        sum += a[i][i]\n",
    "    print(sum)"
   ]
  },
  {
   "cell_type": "code",
   "execution_count": 4,
   "metadata": {},
   "outputs": [
    {
     "name": "stdout",
     "output_type": "stream",
     "text": [
      "原始列表:  [1, 4, 6, 9, 13, 16, 19, 28, 40, 100]\n",
      "19 6\n"
     ]
    }
   ],
   "source": [
    "# 往排序好的数组中插入一个新的数\n",
    "\n",
    "if __name__ == '__main__':\n",
    "    '''\n",
    "    # 方法1: 0作为待加入的数字的占位符\n",
    "    a = [1,4,6,9,13,16,19,28,40,100,0]\n",
    "    print('原始列表: ')\n",
    "    for i in range(len(a)):\n",
    "        print(a[i], end = ', ')\n",
    "#     number = int(raw_input('\\n插入一个新的数字:\\n'))\n",
    "    number = 7\n",
    "    end = a[9]\n",
    "    if number > end:\n",
    "        a[10] = number\n",
    "    else:\n",
    "        for i in range(10):\n",
    "            if a[i] > number:\n",
    "                temp1 = a[i]\n",
    "                a[i] = number\n",
    "                for j in range(i + 1, 11):\n",
    "#                     temp1, a[j] = a[j], temp1 #交换\n",
    "                    a[j], temp1 = temp1, a[j]\n",
    "                break\n",
    "    print('排序后列表:')\n",
    "    for i in range(11):\n",
    "        print(a[i], end = ', ')\n",
    "    '''\n",
    "    # 方法二\n",
    "    a = [1,4,6,9,13,16,19,28,40,100]\n",
    "    print('原始列表: ', a)\n",
    "    number = 19\n",
    "    start = 0\n",
    "    end = len(a) - 1\n",
    "    while start <= end:\n",
    "        b = int((start + end) / 2)\n",
    "        if number > a[b]:\n",
    "            start = b + 1\n",
    "        if number < a[b]:\n",
    "            end = b - 1\n",
    "        if number == a[b]:\n",
    "            start += 1\n",
    "            print(number, b)"
   ]
  },
  {
   "cell_type": "code",
   "execution_count": 10,
   "metadata": {},
   "outputs": [
    {
     "name": "stdout",
     "output_type": "stream",
     "text": [
      "[9, 6, 5, 4, 1]\n",
      "[1, 4, 5, 6, 9]\n",
      "[9, 6, 5, 4, 1]\n"
     ]
    }
   ],
   "source": [
    "# 将数组逆序输出\n",
    "\n",
    "if __name__ == '__main__':\n",
    "    a = [9, 6, 5, 4, 1]\n",
    "    print(a)\n",
    "    a.reverse() # 直接使用列表反转函数\n",
    "    print(a)\n",
    "    N = len(a)\n",
    "    for i in range(int(len(a) / 2)):\n",
    "        a[i], a[N - i - 1] = a[N - i - 1], a[i]\n",
    "    print(a)"
   ]
  },
  {
   "cell_type": "code",
   "execution_count": 11,
   "metadata": {},
   "outputs": [
    {
     "name": "stdout",
     "output_type": "stream",
     "text": [
      "var = 0\n",
      "var = 0\n",
      "var = 0\n",
      "5\n",
      "6\n",
      "7\n",
      "8\n"
     ]
    }
   ],
   "source": [
    "# 模仿静态变量的用法\n",
    "def varfunc():\n",
    "    var = 0\n",
    "    print('var = %d' % var)\n",
    "    var += 1\n",
    "    \n",
    "if __name__ == '__main__':\n",
    "    for i in range(3):\n",
    "        varfunc()\n",
    "\n",
    "# 类的属性\n",
    "# 作为类的一个属性\n",
    "class Static:\n",
    "    StaticVar = 5\n",
    "    def varfunc(self):\n",
    "        self.StaticVar += 1\n",
    "        print(self.StaticVar)\n",
    "\n",
    "print(Static.StaticVar)\n",
    "a = Static()\n",
    "for i in range(3):\n",
    "    a.varfunc()"
   ]
  },
  {
   "cell_type": "code",
   "execution_count": 14,
   "metadata": {},
   "outputs": [
    {
     "name": "stdout",
     "output_type": "stream",
     "text": [
      "The num = 2\n",
      "internal block num = 1\n",
      "The num = 3\n",
      "internal block num = 1\n",
      "The num = 4\n",
      "internal block num = 1\n",
      "***********\n",
      "The num = 3\n",
      "nNum = 2\n",
      "The num = 4\n",
      "nNum = 3\n",
      "The num = 5\n",
      "nNum = 4\n"
     ]
    }
   ],
   "source": [
    "# 模仿静态变量\n",
    "\n",
    "# 案例1\n",
    "num = 2\n",
    "def autofunc():\n",
    "    num = 1\n",
    "    print('internal block num = %d' % num)\n",
    "    num += 1\n",
    "for i in range(3):\n",
    "    print('The num = %d' % num)\n",
    "    num += 1\n",
    "    autofunc()\n",
    "print('***********')  \n",
    "# 案例2\n",
    "class Num:\n",
    "    nNum = 1\n",
    "    def inc(self):\n",
    "        self.nNum += 1\n",
    "        print('nNum = %d' % self.nNum)\n",
    "if __name__ == '__main__':\n",
    "    nNum = 2\n",
    "    inst = Num()\n",
    "    for i in range(3):\n",
    "        nNum += 1\n",
    "        print('The num = %d' % nNum)\n",
    "        inst.inc()"
   ]
  },
  {
   "cell_type": "code",
   "execution_count": 15,
   "metadata": {},
   "outputs": [
    {
     "name": "stdout",
     "output_type": "stream",
     "text": [
      "[[17, 15, 4], [10, 12, 9], [11, 13, 18]]\n"
     ]
    }
   ],
   "source": [
    "# 矩阵相加\n",
    "\n",
    "X = [[12, 7, 3], [4, 5, 6], [7, 8, 9]]\n",
    "Y = [[5, 8, 1], [6, 7, 3], [4, 5, 9]]\n",
    "\n",
    "result = [[0, 0, 0], [0, 0, 0], [0, 0, 0]]\n",
    "\n",
    "# 迭代输出行\n",
    "for i in range(len(X)):\n",
    "    # 迭代输出列\n",
    "    for j in range(len(X[0])):\n",
    "        result[i][j] = X[i][j] + Y[i][j]\n",
    "print(result)"
   ]
  },
  {
   "cell_type": "code",
   "execution_count": 16,
   "metadata": {},
   "outputs": [
    {
     "name": "stdout",
     "output_type": "stream",
     "text": [
      "The sum is 5050\n"
     ]
    }
   ],
   "source": [
    "# 统计1到100之和\n",
    "sum = 0\n",
    "for i in range(1, 101):\n",
    "    sum += i\n",
    "print('The sum is %d' % sum)"
   ]
  },
  {
   "cell_type": "code",
   "execution_count": 1,
   "metadata": {},
   "outputs": [
    {
     "name": "stdout",
     "output_type": "stream",
     "text": [
      "如果输入的数字小于50，程序将停止运行\n",
      "运算结果为: 1\n"
     ]
    }
   ],
   "source": [
    "# 求输入数字的平方，如果平方运算后小于50则退出\n",
    "\n",
    "TRUE = 1\n",
    "FALSE = 0\n",
    "def SQ(x):\n",
    "    return x * x\n",
    "print('如果输入的数字小于50，程序将停止运行')\n",
    "again = 1\n",
    "while again:\n",
    "#     num = int(raw_input('请输入一个数字: '))\n",
    "    num = 1\n",
    "    print('运算结果为: %d' % (SQ(num)))\n",
    "    if SQ(num) >= 50:\n",
    "        again = TRUE\n",
    "    else:\n",
    "        again = FALSE\n",
    "        "
   ]
  },
  {
   "cell_type": "code",
   "execution_count": 2,
   "metadata": {},
   "outputs": [
    {
     "name": "stdout",
     "output_type": "stream",
     "text": [
      "x = 10, y = 20\n",
      "x = 20, y = 10\n"
     ]
    }
   ],
   "source": [
    "# 两个变量值互换\n",
    "def exchange(a, b):\n",
    "    a, b = b, a\n",
    "    return (a, b)\n",
    "if __name__ == '__main__':\n",
    "    x = 10\n",
    "    y = 20\n",
    "    print('x = %d, y = %d' % (x, y))\n",
    "    x, y = exchange(x, y)\n",
    "    print('x = %d, y = %d' % (x, y))"
   ]
  },
  {
   "cell_type": "code",
   "execution_count": 4,
   "metadata": {},
   "outputs": [
    {
     "name": "stdout",
     "output_type": "stream",
     "text": [
      "10 小于 20\n"
     ]
    }
   ],
   "source": [
    "# 数字比较\n",
    "if __name__ == '__main__':\n",
    "    i = 10\n",
    "    j = 20\n",
    "    if i > j:\n",
    "        print('%d 大于 %d' % (i, j))\n",
    "    elif i == j:\n",
    "        print('%d 等于 %d' % (i, j))\n",
    "    elif i < j:\n",
    "        print('%d 小于 %d' % (i, j))\n",
    "    else:\n",
    "        print('未知')"
   ]
  },
  {
   "cell_type": "code",
   "execution_count": 5,
   "metadata": {},
   "outputs": [
    {
     "name": "stdout",
     "output_type": "stream",
     "text": [
      "The largar one is 20\n",
      "The lower one is 10\n"
     ]
    }
   ],
   "source": [
    "# 使用lambda来创建匿名函数 \n",
    "\n",
    "MAXIMUM = lambda x, y: (x > y) * x + (x < y) * y\n",
    "MINIMUM = lambda x, y: (x > y) * y + (x < y) * x\n",
    "\n",
    "if __name__ == '__main__':\n",
    "    a = 10\n",
    "    b = 20\n",
    "    print('The largar one is %d' % MAXIMUM(a, b))\n",
    "    print('The lower one is %d' % MINIMUM(a, b))"
   ]
  },
  {
   "cell_type": "code",
   "execution_count": 6,
   "metadata": {},
   "outputs": [
    {
     "name": "stdout",
     "output_type": "stream",
     "text": [
      "12.2697884502824\n"
     ]
    }
   ],
   "source": [
    "# 生成随机数\n",
    "\n",
    "import random\n",
    "print(random.uniform(10, 20))"
   ]
  },
  {
   "cell_type": "code",
   "execution_count": 8,
   "metadata": {},
   "outputs": [
    {
     "name": "stdout",
     "output_type": "stream",
     "text": [
      "a & b = 3\n",
      "a & b = 3\n"
     ]
    }
   ],
   "source": [
    "# 按位与&, 0o: 八进制, 0x: 十六进制\n",
    "\n",
    "if __name__ == '__main__':\n",
    "    a = 0o77\n",
    "    b = a & 3\n",
    "    print('a & b = %d' % b)\n",
    "    b &= 7\n",
    "    print('a & b = %d' % b)"
   ]
  },
  {
   "cell_type": "code",
   "execution_count": 10,
   "metadata": {},
   "outputs": [
    {
     "name": "stdout",
     "output_type": "stream",
     "text": [
      "a | b is 63\n",
      "a | b is 63\n"
     ]
    }
   ],
   "source": [
    "# 学习使用按位或|\n",
    "if __name__ == '__main__':\n",
    "    a = 0o77\n",
    "    b = a | 3\n",
    "    print('a | b is %d' % b)\n",
    "    b |= 7\n",
    "    print('a | b is %d' % b)"
   ]
  },
  {
   "cell_type": "code",
   "execution_count": 11,
   "metadata": {},
   "outputs": [
    {
     "name": "stdout",
     "output_type": "stream",
     "text": [
      "The a^3 = 60\n",
      "The a^b = 59\n"
     ]
    }
   ],
   "source": [
    "# 学习使用按位异或^\n",
    "if __name__ == '__main__':\n",
    "    a = 0o77\n",
    "    b = a ^ 3\n",
    "    print('The a^3 = %d' % b)\n",
    "    b ^= 7\n",
    "    print('The a^b = %d' % b)"
   ]
  },
  {
   "cell_type": "code",
   "execution_count": 13,
   "metadata": {},
   "outputs": [
    {
     "name": "stdout",
     "output_type": "stream",
     "text": [
      "11\t0\n"
     ]
    }
   ],
   "source": [
    "# 取一个整数a从右端开始的4〜7位\n",
    "\n",
    "if __name__ == \"__main__\":\n",
    "#     a = int(raw_input('input a number:\\n'))\n",
    "    a = 9\n",
    "    b = a >> 4\n",
    "    c = ~(~0 << 4)\n",
    "    d = b & c\n",
    "    print('%o\\t%o' %(a, d))"
   ]
  },
  {
   "cell_type": "code",
   "execution_count": 15,
   "metadata": {},
   "outputs": [],
   "source": [
    "# 用circle 画圆形\n",
    "\n",
    "if __name__ == '__main__':\n",
    "    from tkinter import *\n",
    "    canvas = Canvas(width=800, height=600, bg='yellow')\n",
    "    canvas.pack(expand=YES, fill=BOTH)\n",
    "    k = 1\n",
    "    j = 1\n",
    "    for i in range(0, 26):\n",
    "        canvas.create_oval(310 - k, 250 - k, 310 + k, 250 + k, width = 1)\n",
    "        k += j\n",
    "        j += 0.3\n",
    "    mainloop()"
   ]
  },
  {
   "cell_type": "code",
   "execution_count": 17,
   "metadata": {},
   "outputs": [],
   "source": [
    "# 画直线\n",
    "\n",
    "if __name__ == '__main__':\n",
    "    from tkinter import *\n",
    "    \n",
    "    canvas = Canvas(width=300, height=300, bg='green')\n",
    "    canvas.pack(expand=YES, fill=BOTH)\n",
    "    x0 = 263\n",
    "    y0 = 263\n",
    "    x1 = 275\n",
    "    y1 = 275\n",
    "    for i in range(19):\n",
    "        canvas.create_line(x0, y0, x0, y1, width=1, fill='red')\n",
    "        x0 = x0 - 5\n",
    "        y0 = y0 - 5\n",
    "        x1 = x1 + 5\n",
    "        y1 = y1 + 5\n",
    "    x0 = 263\n",
    "    y1 = 275\n",
    "    y0 = 263\n",
    "    for i in range(21):\n",
    "        canvas.create_line(x0,y0,x0,y1,fill = 'red')\n",
    "        x0 += 5\n",
    "        y0 += 5\n",
    "        y1 += 5\n",
    " \n",
    "    mainloop()"
   ]
  },
  {
   "cell_type": "code",
   "execution_count": 18,
   "metadata": {},
   "outputs": [],
   "source": [
    "# 画方形\n",
    "\n",
    "if __name__ == '__main__':\n",
    "    from tkinter import *\n",
    "    root = Tk()\n",
    "    root.title('Canvas')\n",
    "    canvas = Canvas(root,width = 400,height = 400,bg = 'yellow')\n",
    "    x0 = 263\n",
    "    y0 = 263\n",
    "    y1 = 275\n",
    "    x1 = 275\n",
    "    for i in range(19):\n",
    "        canvas.create_rectangle(x0,y0,x1,y1)\n",
    "        x0 -= 5\n",
    "        y0 -= 5\n",
    "        x1 += 5\n",
    "        y1 += 5\n",
    "        \n",
    "    canvas.pack()\n",
    "    root.mainloop()"
   ]
  },
  {
   "cell_type": "code",
   "execution_count": 19,
   "metadata": {},
   "outputs": [],
   "source": [
    "# 画图，综合例子\n",
    " \n",
    "if __name__  == '__main__':\n",
    "    from tkinter import *\n",
    "    canvas = Canvas(width = 300,height = 300,bg = 'green')\n",
    "    canvas.pack(expand = YES,fill = BOTH)\n",
    "    x0 = 150\n",
    "    y0 = 100\n",
    "    canvas.create_oval(x0 - 10,y0 - 10,x0 + 10,y0 + 10)\n",
    "    canvas.create_oval(x0 - 20,y0 - 20,x0 + 20,y0 + 20)\n",
    "    canvas.create_oval(x0 - 50,y0 - 50,x0 + 50,y0 + 50)\n",
    "    import math\n",
    "    B = 0.809\n",
    "    for i in range(16):\n",
    "        a = 2 * math.pi / 16 * i\n",
    "        x = math.ceil(x0 + 48 * math.cos(a))\n",
    "        y = math.ceil(y0 + 48 * math.sin(a) * B)\n",
    "        canvas.create_line(x0,y0,x,y,fill = 'red')\n",
    "    canvas.create_oval(x0 - 60,y0 - 60,x0 + 60,y0 + 60)\n",
    "    \n",
    "\n",
    "    for k in range(501):\n",
    "        for i in range(17):\n",
    "            a = (2 * math.pi / 16) * i + (2 * math.pi / 180) * k\n",
    "            x = math.ceil(x0 + 48 * math.cos(a))\n",
    "            y = math.ceil(y0 + 48 + math.sin(a) * B)\n",
    "            canvas.create_line(x0,y0,x,y,fill = 'red')\n",
    "        for j in range(51):\n",
    "            a = (2 * math.pi / 16) * i + (2* math.pi / 180) * k - 1\n",
    "            x = math.ceil(x0 + 48 * math.cos(a))\n",
    "            y = math.ceil(y0 + 48 * math.sin(a) * B)\n",
    "            canvas.create_line(x0,y0,x,y,fill = 'red')\n",
    "    mainloop()"
   ]
  },
  {
   "cell_type": "code",
   "execution_count": 20,
   "metadata": {},
   "outputs": [
    {
     "name": "stdout",
     "output_type": "stream",
     "text": [
      "2\n"
     ]
    }
   ],
   "source": [
    "# 查找字符串\n",
    "\n",
    "str1 = 'abcdefg'\n",
    "str2 = 'cde'\n",
    "print(str1.find(str2))"
   ]
  },
  {
   "cell_type": "code",
   "execution_count": 21,
   "metadata": {},
   "outputs": [],
   "source": [
    "# 画椭圆\n",
    "\n",
    "if __name__ == '__main__':\n",
    "    from tkinter import *\n",
    "    x = 360\n",
    "    y = 160\n",
    "    top = y - 30\n",
    "    bottom = y - 30\n",
    "    \n",
    "    canvas = Canvas(width = 400,height = 600,bg = 'white')\n",
    "    for i in range(20):\n",
    "        canvas.create_oval(250 - top,250 - bottom,250 + top,250 + bottom)\n",
    "        top -= 5\n",
    "        bottom += 5\n",
    "    canvas.pack()\n",
    "    mainloop()"
   ]
  },
  {
   "cell_type": "code",
   "execution_count": 22,
   "metadata": {},
   "outputs": [],
   "source": [
    "# 利用ellipse 和 rectangle 画图\n",
    "\n",
    "if __name__ == '__main__':\n",
    "    from tkinter import *\n",
    "    canvas = Canvas(width = 400,height = 600,bg = 'white')\n",
    "    left = 20\n",
    "    right = 50\n",
    "    top = 50\n",
    "    num = 15\n",
    "    for i in range(num):\n",
    "        canvas.create_oval(250 - right,250 - left,250 + right,250 + left)\n",
    "        canvas.create_oval(250 - 20,250 - top,250 + 20,250 + top)\n",
    "        canvas.create_rectangle(20 - 2 * i,20 - 2 * i,10 * (i + 2),10 * ( i + 2))\n",
    "        right += 5\n",
    "        left += 5\n",
    "        top += 10\n",
    "\n",
    "    canvas.pack()\n",
    "    mainloop()"
   ]
  },
  {
   "cell_type": "code",
   "execution_count": 24,
   "metadata": {},
   "outputs": [],
   "source": [
    "# 一个最优美的图案\n",
    "\n",
    "import math\n",
    "from tkinter import *\n",
    "class PTS:\n",
    "    def __init__(self):\n",
    "        self.x = 0\n",
    "        self.y = 0\n",
    "points = []\n",
    "\n",
    "def LineToDemo():\n",
    "    screenx = 400\n",
    "    screeny = 400\n",
    "    canvas = Canvas(width = screenx,height = screeny,bg = 'white')\n",
    "\n",
    "    AspectRatio = 0.85\n",
    "    MAXPTS = 15\n",
    "    h = screeny\n",
    "    w = screenx\n",
    "    xcenter = w / 2\n",
    "    ycenter = h / 2\n",
    "    radius = (h - 30) / (AspectRatio * 2) - 20\n",
    "    step = 360 / MAXPTS\n",
    "    angle = 0.0\n",
    "    for i in range(MAXPTS):\n",
    "        rads = angle * math.pi / 180.0\n",
    "        p = PTS()\n",
    "        p.x = xcenter + int(math.cos(rads) * radius)\n",
    "        p.y = ycenter - int(math.sin(rads) * radius * AspectRatio)\n",
    "        angle += step\n",
    "        points.append(p)\n",
    "    canvas.create_oval(xcenter - radius,ycenter - radius,\n",
    "                       xcenter + radius,ycenter + radius)\n",
    "    for i in range(MAXPTS):\n",
    "        for j in range(i,MAXPTS):\n",
    "            canvas.create_line(points[i].x,points[i].y,points[j].x,points[j].y)\n",
    "\n",
    "    canvas.pack()\n",
    "    mainloop()\n",
    "if __name__ == '__main__':\n",
    "    LineToDemo()"
   ]
  },
  {
   "cell_type": "code",
   "execution_count": 26,
   "metadata": {},
   "outputs": [
    {
     "name": "stdout",
     "output_type": "stream",
     "text": [
      "123 789 999\n"
     ]
    }
   ],
   "source": [
    "# 三个数字，按大小输出\n",
    "\n",
    "if __name__ == '__main__':\n",
    "    n1 = 123\n",
    "    n2 = 999\n",
    "    n3 = 789\n",
    "    \n",
    "    if n1 > n2 : n1, n2 = n2, n1\n",
    "    if n1 > n3 : n1, n3 = n3, n1\n",
    "    if n2 > n3 : n2, n3 = n3, n2\n",
    "    print(n1, n2, n3)"
   ]
  },
  {
   "cell_type": "code",
   "execution_count": 28,
   "metadata": {},
   "outputs": [
    {
     "name": "stdout",
     "output_type": "stream",
     "text": [
      "计算结果为: \n",
      "9, 2, 3, 7, 8, 1, "
     ]
    }
   ],
   "source": [
    "# 输入数组，最大的与第一个元素交换，最小的与最后一个元素交换，输出数组\n",
    "\n",
    "p = 0\n",
    "def arr_max(array):\n",
    "    max = 0\n",
    "    for i in range(1, len(array) - 1):\n",
    "        p = i\n",
    "        if array[p] > array[max] : max = p\n",
    "    k = max\n",
    "    array[0], array[k] = array[k], array[0]\n",
    "def arr_min(array):\n",
    "    min = 0\n",
    "    for i in range(1, len(array) - 1):\n",
    "        p = i\n",
    "        if array[p] < array[min] : min = p\n",
    "    l = min\n",
    "    array[len(array) - 1], array[l] = array[l], array[len(array) - 1]\n",
    "def outp(numbers):\n",
    "    for i in range(len(numbers)):\n",
    "        print(numbers[i], end=', ')\n",
    "        \n",
    "if __name__ == '__main__':\n",
    "    array = [1, 2, 3, 7, 9, 8]\n",
    "    arr_max(array)\n",
    "    arr_min(array)\n",
    "    print('计算结果为: ')\n",
    "    outp(array)"
   ]
  },
  {
   "cell_type": "code",
   "execution_count": 37,
   "metadata": {},
   "outputs": [
    {
     "name": "stdout",
     "output_type": "stream",
     "text": [
      "原始列表:  [2, 8, 6, 1, 78, 45, 34, 2]\n",
      "移动之后:  [1, 78, 45, 34, 2, 2, 8, 6]\n",
      "新数据为:  [1, 78, 45, 34, 2, 2, 8, 6]\n"
     ]
    }
   ],
   "source": [
    "# 有n个整数，使其前面各数顺序向后移m个位置，最后m个数变成最前面的m个数\n",
    "\n",
    "if __name__ == '__main__':\n",
    "    n = 8\n",
    "    m = 5\n",
    "    \n",
    "    def move(array, n, m):\n",
    "        array_end = array[n - 1]\n",
    "        for i in range(n - 1, -1, -1):\n",
    "            array[i] = array[i - 1]\n",
    "        array[0] = array_end\n",
    "        m -= 1\n",
    "        if m > 0 : move(array, n, m)\n",
    "        \n",
    "    number = []\n",
    "    for i in range(n):\n",
    "#         number.append(int(raw_input('输入一个数字:\\n')))\n",
    "        number = [2, 8, 6, 1, 78, 45, 34, 2]\n",
    "    print('原始列表: ', number)\n",
    "    move(number, n, m)\n",
    "    print('移动之后: ', number)\n",
    "\n",
    "    # 方法2: 数组移动，拼接\n",
    "    number = [2, 8, 6, 1, 78, 45, 34, 2]\n",
    "    new_array = number[n - m: n]\n",
    "    new_array.extend(number[: n - m])\n",
    "    print('新数据为: ', new_array)"
   ]
  },
  {
   "cell_type": "code",
   "execution_count": 38,
   "metadata": {},
   "outputs": [
    {
     "name": "stdout",
     "output_type": "stream",
     "text": [
      "10\n"
     ]
    }
   ],
   "source": [
    "# 有n个人围成一圈，顺序排号。从第一个人开始报数（从1到3报数），凡报到3的人退出圈子，问最后留下的是原来第几号的那位\n",
    "if __name__ == \"__main__\":\n",
    "    nmax = 50\n",
    "#     n = int(raw_input('请输入总人数:'))\n",
    "    n = 34\n",
    "    num = []\n",
    "    for i in range(n):\n",
    "        num.append(i + 1)\n",
    "    \n",
    "    i = 0\n",
    "    k = 0\n",
    "    m = 0\n",
    "    \n",
    "    while m < n - 1:\n",
    "        if num[i] != 0 : k +=1\n",
    "        if k == 3:\n",
    "            num[i] = 0\n",
    "            k = 0\n",
    "            m += 1\n",
    "        i += 1\n",
    "        if i == n : i = 0\n",
    "    i = 0\n",
    "    while num[i] == 0 : i += 1\n",
    "    print(num[i])"
   ]
  },
  {
   "cell_type": "code",
   "execution_count": 2,
   "metadata": {},
   "outputs": [
    {
     "name": "stdout",
     "output_type": "stream",
     "text": [
      "[[2, 'aaa', [89, 98, 67]], [2, 'aaa', [89, 98, 67]], [2, 'aaa', [89, 98, 67]], ['', '', []], ['', '', []]]\n",
      "2     aaa       \n",
      "89      \n",
      "98      \n",
      "67      \n",
      "2     aaa       \n",
      "89      \n",
      "98      \n",
      "67      \n",
      "2     aaa       \n",
      "89      \n",
      "98      \n",
      "67      \n"
     ]
    }
   ],
   "source": [
    "# 编写input和output函数输入，输出5个学生的数据记录\n",
    "\n",
    "N = 3\n",
    "student = []\n",
    "for i in range(5):\n",
    "    student.append(['', '', []])\n",
    "\n",
    "def input_stu(stu):\n",
    "    for i in range(N):\n",
    "#         stu[i][0] = raw_input('input student num:\\n')\n",
    "#         stu[i][1] = raw_input('input student name:\\n')\n",
    "        stu[i][0] = 2\n",
    "        stu[i][1] = 'aaa'\n",
    "        for j in range(N):\n",
    "#             stu[i][2].append(int(raw_input('score:\\n')))\n",
    "            stu[i][2] = [89, 98, 67]\n",
    "\n",
    "def output_stu(stu):\n",
    "    for i in range(N):\n",
    "        print('%-6s%-10s' % (stu[i][0], stu[i][1]))\n",
    "        for j in range(N):\n",
    "            print('%-8d' % stu[i][2][j])\n",
    "            \n",
    "if __name__ == '__main__':\n",
    "    input_stu(student)\n",
    "    print(student)\n",
    "    output_stu(student)\n",
    "        "
   ]
  },
  {
   "cell_type": "code",
   "execution_count": 4,
   "metadata": {},
   "outputs": [
    {
     "name": "stdout",
     "output_type": "stream",
     "text": [
      "[0, 1, 2, 3, 4]\n"
     ]
    }
   ],
   "source": [
    "# 创建一个链表\n",
    "\n",
    "if __name__ == '__main__':\n",
    "    ptr = []\n",
    "    for i in range(5):\n",
    "#         num = int(raw_input('please input a number:\\n'))\n",
    "        num = i\n",
    "        ptr.append(num)\n",
    "    print(ptr)"
   ]
  },
  {
   "cell_type": "code",
   "execution_count": null,
   "metadata": {},
   "outputs": [],
   "source": []
  },
  {
   "cell_type": "code",
   "execution_count": null,
   "metadata": {},
   "outputs": [],
   "source": []
  },
  {
   "cell_type": "code",
   "execution_count": null,
   "metadata": {},
   "outputs": [],
   "source": []
  },
  {
   "cell_type": "code",
   "execution_count": null,
   "metadata": {},
   "outputs": [],
   "source": []
  },
  {
   "cell_type": "code",
   "execution_count": null,
   "metadata": {},
   "outputs": [],
   "source": []
  },
  {
   "cell_type": "code",
   "execution_count": null,
   "metadata": {},
   "outputs": [],
   "source": []
  },
  {
   "cell_type": "code",
   "execution_count": null,
   "metadata": {},
   "outputs": [],
   "source": []
  },
  {
   "cell_type": "code",
   "execution_count": null,
   "metadata": {},
   "outputs": [],
   "source": []
  },
  {
   "cell_type": "code",
   "execution_count": null,
   "metadata": {},
   "outputs": [],
   "source": []
  },
  {
   "cell_type": "code",
   "execution_count": null,
   "metadata": {},
   "outputs": [],
   "source": []
  },
  {
   "cell_type": "code",
   "execution_count": null,
   "metadata": {},
   "outputs": [],
   "source": []
  },
  {
   "cell_type": "code",
   "execution_count": null,
   "metadata": {},
   "outputs": [],
   "source": []
  }
 ],
 "metadata": {
  "kernelspec": {
   "display_name": "Python 3",
   "language": "python",
   "name": "python3"
  },
  "language_info": {
   "codemirror_mode": {
    "name": "ipython",
    "version": 3
   },
   "file_extension": ".py",
   "mimetype": "text/x-python",
   "name": "python",
   "nbconvert_exporter": "python",
   "pygments_lexer": "ipython3",
   "version": "3.6.5"
  }
 },
 "nbformat": 4,
 "nbformat_minor": 2
}
