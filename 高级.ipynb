{
 "cells": [
  {
   "cell_type": "code",
   "execution_count": 1,
   "metadata": {},
   "outputs": [
    {
     "ename": "NameError",
     "evalue": "name 'raw_input' is not defined",
     "output_type": "error",
     "traceback": [
      "\u001b[0;31m---------------------------------------------------------------------------\u001b[0m",
      "\u001b[0;31mNameError\u001b[0m                                 Traceback (most recent call last)",
      "\u001b[0;32m<ipython-input-1-1902cde833da>\u001b[0m in \u001b[0;36m<module>\u001b[0;34m()\u001b[0m\n\u001b[0;32m----> 1\u001b[0;31m \u001b[0mstr\u001b[0m \u001b[0;34m=\u001b[0m \u001b[0mraw_input\u001b[0m\u001b[0;34m(\u001b[0m\u001b[0;34m\"请输入: \"\u001b[0m\u001b[0;34m)\u001b[0m\u001b[0;34m\u001b[0m\u001b[0m\n\u001b[0m\u001b[1;32m      2\u001b[0m \u001b[0mprint\u001b[0m\u001b[0;34m(\u001b[0m\u001b[0;34m\"你输入的内容是: \"\u001b[0m\u001b[0;34m,\u001b[0m \u001b[0mstr\u001b[0m\u001b[0;34m)\u001b[0m\u001b[0;34m\u001b[0m\u001b[0m\n",
      "\u001b[0;31mNameError\u001b[0m: name 'raw_input' is not defined"
     ]
    }
   ],
   "source": [
    "str = raw_input(\"请输入: \")\n",
    "print(\"你输入的内容是: \", str)"
   ]
  },
  {
   "cell_type": "code",
   "execution_count": 11,
   "metadata": {},
   "outputs": [
    {
     "name": "stdout",
     "output_type": "stream",
     "text": [
      "Name:  Zara , Salary:  2000\n",
      "Name:  Manni , Salary:  5000\n",
      "Name:  SmallHong , Salary:  30000\n",
      "Total Employee 3\n",
      "Employee.__doc__:  所有员工的基类\n"
     ]
    }
   ],
   "source": [
    "class Employee:\n",
    "    '所有员工的基类'\n",
    "    empCount = 0\n",
    "    \n",
    "    def __init__(self, name, salary):\n",
    "        self.name = name\n",
    "        self.salary = salary\n",
    "        Employee.empCount += 1\n",
    "    \n",
    "    def displayCount(self):\n",
    "        print(\"Total Employee %d\" % Employee.empCount)\n",
    "        \n",
    "    def displayEmployee(self):\n",
    "        print(\"Name: \", self.name, \", Salary: \", self.salary)\n",
    "        \n",
    "\"创建Employee类的第一个对象\"\n",
    "emp1 = Employee(\"Zara\", 2000)\n",
    "\"创建Employee类的第二对象\"\n",
    "emp2 = Employee(\"Manni\", 5000)\n",
    "\"闯将Employee类的第三个对象\"\n",
    "emp3 = Employee(\"SmallHong\", 30000)\n",
    "emp1.displayEmployee()\n",
    "emp2.displayEmployee()\n",
    "emp3.displayEmployee()\n",
    "print(\"Total Employee %d\" % Employee.empCount)\n",
    "\n",
    "print(\"Employee.__doc__: \" , Employee.__doc__)"
   ]
  },
  {
   "cell_type": "code",
   "execution_count": 16,
   "metadata": {},
   "outputs": [
    {
     "name": "stdout",
     "output_type": "stream",
     "text": [
      "调用子类构造方法\n",
      "调用子类方法\n",
      "调用父类方法\n",
      "父类属性:  200\n"
     ]
    }
   ],
   "source": [
    "class Parent:\n",
    "    parentAttr = 100\n",
    "    \n",
    "    def __init__(self):\n",
    "        print(\"调用父类构造函数\")\n",
    "    \n",
    "    def parentMethod(self):\n",
    "        print(\"调用父类方法\")\n",
    "        \n",
    "    def setAttr(self, attr):\n",
    "        Parent.parentAttr = attr\n",
    "        \n",
    "    def getAttr(self):\n",
    "        print(\"父类属性: \", Parent.parentAttr)\n",
    "        \n",
    "    def myMethod(self):\n",
    "        print(\"调用父类方法\")\n",
    "        \n",
    "class Child(Parent):\n",
    "    def __init__(self):\n",
    "        print(\"调用子类构造方法\")\n",
    "        \n",
    "    def childMethod(self):\n",
    "        print(\"调用子类方法\")\n",
    "        \n",
    "    def myMenthod(self):\n",
    "        print(\"调用子类方法\")\n",
    "        \n",
    "c = Child() #实例化子类\n",
    "c.childMethod() # 调用子类的方法\n",
    "c.parentMethod() #调用父类的方法\n",
    "c.setAttr(200) #调用父类方法－设置属性值\n",
    "c.getAttr() #调用父类方法－获取属性值"
   ]
  },
  {
   "cell_type": "code",
   "execution_count": 20,
   "metadata": {},
   "outputs": [
    {
     "name": "stdout",
     "output_type": "stream",
     "text": [
      "1\n",
      "2\n",
      "2\n",
      "2\n"
     ]
    }
   ],
   "source": [
    "class JustCounter:\n",
    "    __secretCount = 0 #私有变量\n",
    "    publicCount = 0 #公开变量\n",
    "    \n",
    "    def count(self):\n",
    "        self.__secretCount += 1\n",
    "        self.publicCount += 1\n",
    "        print(self.__secretCount)\n",
    "        \n",
    "counter = JustCounter()\n",
    "counter.count()\n",
    "counter.count()\n",
    "print(counter.publicCount)\n",
    "# print(counter.__secretCount) #报错，实例不能访问私有变量\n",
    "print(counter._JustCounter__secretCount)   #可以通过object._className__attrName方式访问属性     "
   ]
  },
  {
   "cell_type": "code",
   "execution_count": null,
   "metadata": {},
   "outputs": [],
   "source": []
  },
  {
   "cell_type": "code",
   "execution_count": null,
   "metadata": {},
   "outputs": [],
   "source": []
  },
  {
   "cell_type": "code",
   "execution_count": null,
   "metadata": {},
   "outputs": [],
   "source": []
  },
  {
   "cell_type": "code",
   "execution_count": null,
   "metadata": {},
   "outputs": [],
   "source": []
  },
  {
   "cell_type": "code",
   "execution_count": null,
   "metadata": {},
   "outputs": [],
   "source": []
  }
 ],
 "metadata": {
  "kernelspec": {
   "display_name": "Python 3",
   "language": "python",
   "name": "python3"
  },
  "language_info": {
   "codemirror_mode": {
    "name": "ipython",
    "version": 3
   },
   "file_extension": ".py",
   "mimetype": "text/x-python",
   "name": "python",
   "nbconvert_exporter": "python",
   "pygments_lexer": "ipython3",
   "version": "3.6.5"
  }
 },
 "nbformat": 4,
 "nbformat_minor": 2
}
